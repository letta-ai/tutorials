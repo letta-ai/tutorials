{
 "cells": [
  {
   "cell_type": "markdown",
   "id": "cac06555-9ce8-4f01-bbef-3f8407f4b54d",
   "metadata": {},
   "source": [
    "# Tutorial: Using Letta to build agents with memory "
   ]
  },
  {
   "cell_type": "code",
   "execution_count": null,
   "id": "485c2023-5caf-4342-870d-0b814564b013",
   "metadata": {},
   "outputs": [],
   "source": [
    "from helper import print_message"
   ]
  },
  {
   "cell_type": "markdown",
   "id": "aad3a8cc-d17a-4da1-b621-ecc93c9e2106",
   "metadata": {},
   "source": [
    "## Section 0: Setup a Letta client "
   ]
  },
  {
   "cell_type": "code",
   "execution_count": null,
   "id": "7ccd43f2-164b-4d25-8465-894a3bb54c4b",
   "metadata": {},
   "outputs": [],
   "source": [
    "from letta_client import Letta \n",
    "\n",
    "client = Letta(base_url=\"http://localhost:8283\")"
   ]
  },
  {
   "cell_type": "markdown",
   "id": "65bf0dc2-d1ac-4d4c-8674-f3156eeb611d",
   "metadata": {},
   "source": [
    "## Section 1: Creating a simple agent with memory "
   ]
  },
  {
   "cell_type": "markdown",
   "id": "fe092474-6b91-4124-884d-484fc28b58e7",
   "metadata": {},
   "source": [
    "### Creating an agent "
   ]
  },
  {
   "cell_type": "code",
   "execution_count": null,
   "id": "62dcf31d-6f45-40f5-8373-61981f03da62",
   "metadata": {},
   "outputs": [],
   "source": [
    "agent_state = client.agents.create(\n",
    "    memory_blocks=[\n",
    "        {\n",
    "          \"label\": \"human\",\n",
    "          \"value\": \"The human's name is Bob the Builder.\"\n",
    "        },\n",
    "        {\n",
    "          \"label\": \"persona\",\n",
    "          \"value\": \"My name is Sam, the all-knowing sentient AI.\"\n",
    "        }\n",
    "    ],\n",
    "    model=\"letta/letta-free\",\n",
    "    context_window_limit=8000, # optional context window budget \n",
    "    embedding=\"letta/letta-free\"\n",
    ")\n",
    "print(f\"Created agent with name {agent_state.name}\")"
   ]
  },
  {
   "cell_type": "markdown",
   "id": "872ab1fc-3766-440d-a364-6367b73d617b",
   "metadata": {},
   "source": [
    "You can go to https://app.letta.com/development-servers/local/agents to view your created agent in the ADE. \n",
    "\n",
    "Now, we can also message the agent: "
   ]
  },
  {
   "cell_type": "code",
   "execution_count": null,
   "id": "31c2d5f6-626a-4666-8d0b-462db0292a7d",
   "metadata": {},
   "outputs": [],
   "source": [
    "# send a message to the agent\n",
    "response = client.agents.messages.create(\n",
    "    agent_id=agent_state.id,\n",
    "    messages=[\n",
    "        {\n",
    "            \"role\": \"user\",\n",
    "            \"content\": \"hows it going????\"\n",
    "        }\n",
    "    ]\n",
    ")"
   ]
  },
  {
   "cell_type": "code",
   "execution_count": null,
   "id": "62ce8185-204d-4390-92dd-dbb97df026e1",
   "metadata": {},
   "outputs": [],
   "source": [
    "for message in response.messages:\n",
    "    print_message(message)"
   ]
  },
  {
   "cell_type": "markdown",
   "id": "20a5ccf4-addd-4bdb-be80-161f7925dae0",
   "metadata": {},
   "source": [
    "Note that Letta has different message types - here we see both:  \n",
    "\n",
    "* `reasoning_message`: The inner monologue (chain-of-thought) of the agent\n",
    "* `assistant_message`: An agent calling the send_message tool to communicate with the user\n",
    "\n",
    "Letta also has additional message types: \n",
    "* `tool_call_message`: An agent’s tool (function) call\n",
    "* `tool_call_return`: The result of executing an agent’s tool (function) call\n",
    "* `system_message`: A system message (for example, an alert about the user logging in)\n",
    "* `user_message`: A user message\n",
    "\n",
    "See Letta's documentation on all the available [message types](https://docs.letta.com/guides/agents/overview#lettamessage). "
   ]
  },
  {
   "cell_type": "markdown",
   "id": "8d33eca5-b8e8-4a8f-9440-85b45c37a777",
   "metadata": {},
   "source": [
    "### Understanding agent state \n",
    "Letta agents are *stateful* and are defined by: \n",
    "* The system prompt defining the agent's behavior (read-only)\n",
    "* The set of *tools* they have access to \n",
    "* Their memory (core, archival, & recall)\n",
    "You can see all the attributes of the agent's state in the `AgentState` returned by the agent creation. "
   ]
  },
  {
   "cell_type": "code",
   "execution_count": null,
   "id": "c1cf7136-4060-441a-9d12-da851badf339",
   "metadata": {},
   "outputs": [],
   "source": [
    "print(agent_state.system)"
   ]
  },
  {
   "cell_type": "code",
   "execution_count": null,
   "id": "d9e1c8c0-e98c-4952-b850-136b5b50a5ee",
   "metadata": {},
   "outputs": [],
   "source": [
    "[t.name for t in agent_state.tools]"
   ]
  },
  {
   "cell_type": "markdown",
   "id": "ae910ad9-afee-41f5-badd-a8dee5b2ad94",
   "metadata": {},
   "source": [
    "### Viewing an agent's memory\n",
    "The memory is also in `AgentState.memory`, but we can also query it directly. "
   ]
  },
  {
   "cell_type": "code",
   "execution_count": null,
   "id": "478a0df6-3c87-4803-9133-8a54f9c00320",
   "metadata": {},
   "outputs": [],
   "source": [
    "memory = client.agents.core_memory.retrieve(\n",
    "    agent_id=agent_state.id,\n",
    ")"
   ]
  },
  {
   "cell_type": "code",
   "execution_count": null,
   "id": "ff2c3736-5424-4883-8fe9-73a4f598a043",
   "metadata": {},
   "outputs": [],
   "source": [
    "memory"
   ]
  },
  {
   "cell_type": "markdown",
   "id": "c90b6754-65a3-4129-a3a4-3a62bf96dd51",
   "metadata": {},
   "source": [
    "### Context window summary \n",
    "We can also view information about the agent's context window, which includes metadata about data available in external memory (e.g. archival memory, recall memory). "
   ]
  },
  {
   "cell_type": "code",
   "execution_count": null,
   "id": "d8452f45-f5eb-48df-92cb-47b8daf5ff94",
   "metadata": {},
   "outputs": [],
   "source": [
    "context_window_summary = client.agents.context.retrieve(\n",
    "    agent_id=agent_state.id,\n",
    ")"
   ]
  },
  {
   "cell_type": "code",
   "execution_count": null,
   "id": "d6da43d6-847e-4a0a-9b92-cea2721e828a",
   "metadata": {},
   "outputs": [],
   "source": [
    "print(context_window_summary.external_memory_summary)"
   ]
  },
  {
   "cell_type": "markdown",
   "id": "c4bb24fa-86b8-432c-8dab-0e022b6a6a25",
   "metadata": {},
   "source": [
    "## External memory \n",
    "We can list the message history and also the archival memory of the agent - both which are also accessible to the agent via tools "
   ]
  },
  {
   "cell_type": "code",
   "execution_count": null,
   "id": "0399a1d6-a1f8-4796-a4c0-eb322512b0ec",
   "metadata": {},
   "outputs": [],
   "source": [
    "messages = client.agents.messages.list(\n",
    "    agent_id=agent_state.id,\n",
    ")"
   ]
  },
  {
   "cell_type": "code",
   "execution_count": null,
   "id": "c7cce583-1f11-4f13-a6ed-52cc7f80e3c4",
   "metadata": {},
   "outputs": [],
   "source": [
    "messages"
   ]
  },
  {
   "cell_type": "code",
   "execution_count": null,
   "id": "e97703dd-62dd-4aa6-8347-d32edd86e247",
   "metadata": {},
   "outputs": [],
   "source": [
    "passages = client.agents.archival_memory.list(\n",
    "    agent_id=agent_state.id,\n",
    ")"
   ]
  },
  {
   "cell_type": "code",
   "execution_count": null,
   "id": "b08ecd75-dc85-449e-8a59-951490994bf9",
   "metadata": {},
   "outputs": [],
   "source": [
    "passages"
   ]
  },
  {
   "cell_type": "markdown",
   "id": "dfd0a9ae-417e-4ba0-a562-ec59cb2bbf7d",
   "metadata": {},
   "source": [
    "## Section 2: Understanding core memory \n",
    "Core memory is memory that is stored *in-context* - so every LLM call, core memory is included. What's unique about Letta is that this core memory is editable via tools by the agent itself. Lets see how the agent can adapt its memory to new information."
   ]
  },
  {
   "cell_type": "markdown",
   "id": "d259669c-5903-40b5-8758-93c36faa752f",
   "metadata": {},
   "source": [
    "The `human` block of core memory is used to remember information about the human in the conversation. As the agent learns new information about the human, it can update this part of memory to improve personalization. \n",
    "\n",
    " The agent also records information about itself and how it behaves in the `persona` section of memory. This is important for ensuring a consistent persona over time (e.g. not making inconsistent claims, such as liking ice cream one day and hating it another). Unlike the `system_prompt`, the `persona` is editable - this means that it can be used to incoporate feedback to learn and improve its persona over time. "
   ]
  },
  {
   "cell_type": "code",
   "execution_count": null,
   "id": "beb9b0ba-ed7c-4917-8ee5-21d201516086",
   "metadata": {},
   "outputs": [],
   "source": [
    "# send a message to the agent\n",
    "response = client.agents.messages.create(\n",
    "    agent_id=agent_state.id,\n",
    "    messages=[\n",
    "        {\n",
    "            \"role\": \"user\",\n",
    "            \"content\": \"my name is actually bob\"\n",
    "        }\n",
    "    ]\n",
    ")"
   ]
  },
  {
   "cell_type": "code",
   "execution_count": null,
   "id": "ee0bcf4b-31dd-4926-b8ba-25baf460c8f1",
   "metadata": {},
   "outputs": [],
   "source": [
    "for message in response.messages:\n",
    "    print_message(message)"
   ]
  },
  {
   "cell_type": "markdown",
   "id": "7e04f1f0-0743-4c68-91ea-2cf5532ebd0f",
   "metadata": {},
   "source": [
    "### Heartbeat Requests \n",
    "Notice that when `core_memory_replace` is called, it has an extra argument: `request_heartbeat`. \n",
    "\n",
    "In Letta, the agent can control the execution loop (e.g. whether the LLM is invoked again) by specifying the `request_heartbeat` argument, which is injected into all tools. If `request_heartbeat==True`, the LLM will be called again (so the agent runs another step). If `request_heartbeat==False`, the agent will stop execution.  "
   ]
  },
  {
   "cell_type": "markdown",
   "id": "215e5969-2ce5-47aa-b184-3c92771d824b",
   "metadata": {},
   "source": [
    "### Querying memory blocks \n",
    "The agent's memory block can also be directly queried - so we can check to see if the agent's core memory was updated: "
   ]
  },
  {
   "cell_type": "code",
   "execution_count": null,
   "id": "25f58968-e262-4268-86ef-1bed57e6bf33",
   "metadata": {},
   "outputs": [],
   "source": [
    "client.agents.core_memory.retrieve_block(\n",
    "    agent_id=agent_state.id,\n",
    "    block_label=\"human\"\n",
    ").value"
   ]
  },
  {
   "cell_type": "markdown",
   "id": "592f5d1c-cd2f-4314-973e-fcc481e6b460",
   "metadata": {},
   "source": [
    "## Section 3: Understanding archival memory\n",
    "Letta agents store long term memories in *archival memory*, which persists data into an external database. This allows agents additional space to write information outside of its context window (e.g. with core memory), which is limited in size. "
   ]
  },
  {
   "cell_type": "code",
   "execution_count": null,
   "id": "cd206a15-0e8c-405c-ae15-0b8f2a94d5bd",
   "metadata": {},
   "outputs": [],
   "source": [
    "# send a message to the agent\n",
    "response = client.agents.messages.create(\n",
    "    agent_id=agent_state.id,\n",
    "    messages=[\n",
    "        {\n",
    "            \"role\": \"user\",\n",
    "            \"content\": \"remember that I love cats in your archival memory\" \n",
    "        }\n",
    "    ]\n",
    ")"
   ]
  },
  {
   "cell_type": "code",
   "execution_count": null,
   "id": "0a59217a-6ce2-421a-8e20-6aee03433633",
   "metadata": {},
   "outputs": [],
   "source": [
    "for message in response.messages:\n",
    "    print_message(message)"
   ]
  },
  {
   "cell_type": "markdown",
   "id": "ae463e7c-0588-48ab-888c-734c783782bf",
   "metadata": {},
   "source": [
    "You can also directly insert into archival memory from the client. "
   ]
  },
  {
   "cell_type": "code",
   "execution_count": null,
   "id": "f9d4194d-9ed5-40a1-b35d-a9aff3048000",
   "metadata": {},
   "outputs": [],
   "source": [
    "passages = client.agents.archival_memory.create(\n",
    "    agent_id=agent_state.id,\n",
    "    text=\"Bob's loves boston terriers\",\n",
    ")"
   ]
  },
  {
   "cell_type": "markdown",
   "id": "338149f1-6671-4a0b-81d9-23d01dbe2e97",
   "metadata": {},
   "source": [
    "Now lets see how the agent uses its archival memory:"
   ]
  },
  {
   "cell_type": "code",
   "execution_count": null,
   "id": "5908b10f-94db-4f5a-bb9a-1f08c74a2860",
   "metadata": {},
   "outputs": [],
   "source": [
    "response = client.agents.messages.create(\n",
    "    agent_id=agent_state.id,\n",
    "    messages=[\n",
    "        {\n",
    "            \"role\": \"user\",\n",
    "            \"content\": \"what animals do I like? search archival\" \n",
    "        }\n",
    "    ]\n",
    ")"
   ]
  },
  {
   "cell_type": "code",
   "execution_count": null,
   "id": "ffa15080-9da4-4c82-b461-4c2ef6c5e36c",
   "metadata": {},
   "outputs": [],
   "source": [
    "for message in response.messages:\n",
    "    print_message(message)"
   ]
  },
  {
   "cell_type": "markdown",
   "id": "5b51726b-99d4-49fd-b0ab-4f4eb340ef49",
   "metadata": {},
   "source": [
    "## Adding Custom Tools \n",
    "You can also add custom tools in Letta, which are executed by the server. Tools can be stateless, or also edit the agent's state. In this example, we'll show how you can edit the agent's memory via the Letta Client (though you can also do the same thing through directly modifying `AgentState`). "
   ]
  },
  {
   "cell_type": "code",
   "execution_count": null,
   "id": "5a22b872-ec48-42c6-b14b-cde7b8d7a983",
   "metadata": {},
   "outputs": [],
   "source": [
    "def core_memory_reset_human(agent_state: \"AgentState\"):\n",
    "    \"\"\"\n",
    "    Clear out the agent's core memory about the human.  \n",
    "    \"\"\"\n",
    "\n",
    "    from letta_client import Letta\n",
    "    import json \n",
    "\n",
    "    client = Letta(base_url=\"http://localhost:8283\") \n",
    "    \n",
    "    # update the block value \n",
    "    client.agents.core_memory.modify_block(\n",
    "        agent_id=agent_state.id,\n",
    "        value=\"\",\n",
    "        block_label=\"human\"\n",
    "    )\n",
    "    return None\n"
   ]
  },
  {
   "cell_type": "code",
   "execution_count": null,
   "id": "04be9daa-7cea-428b-a028-9d61342931b2",
   "metadata": {},
   "outputs": [],
   "source": [
    "core_memory_reset_tool = client.tools.upsert_from_function(func=core_memory_reset_human)"
   ]
  },
  {
   "cell_type": "code",
   "execution_count": null,
   "id": "415084dd-b2b5-46d6-9deb-b7a9a8bd9200",
   "metadata": {},
   "outputs": [],
   "source": [
    "agent_state = client.agents.create(\n",
    "    memory_blocks=[\n",
    "        {\n",
    "          \"label\": \"human\",\n",
    "          \"value\": \"Name: Bob\"\n",
    "        }\n",
    "    ],\n",
    "    model=\"letta/letta-free\",\n",
    "    embedding=\"letta/letta-free\", \n",
    "    tool_ids=[core_memory_reset_tool.id]\n",
    ")"
   ]
  },
  {
   "cell_type": "code",
   "execution_count": null,
   "id": "b7b9a9f3-c7b4-4028-8c5c-adb5e124d67b",
   "metadata": {},
   "outputs": [],
   "source": [
    "response = client.agents.messages.create(\n",
    "    agent_id=agent_state.id,\n",
    "    messages=[\n",
    "        {\n",
    "            \"role\": \"user\",\n",
    "            \"content\": \"reset your memory please\" \n",
    "        }\n",
    "    ]\n",
    ")"
   ]
  },
  {
   "cell_type": "code",
   "execution_count": null,
   "id": "050470b7-195d-47ee-b082-d9540846e825",
   "metadata": {},
   "outputs": [],
   "source": [
    "for message in response.messages:\n",
    "    print_message(message)"
   ]
  },
  {
   "cell_type": "code",
   "execution_count": null,
   "id": "86df9c14-882b-49d5-850c-7e297c144c43",
   "metadata": {},
   "outputs": [],
   "source": [
    "client.agents.core_memory.retrieve_block(\n",
    "    agent_id=agent_state.id,\n",
    "    block_label=\"human\"\n",
    ").value"
   ]
  },
  {
   "cell_type": "markdown",
   "id": "fb3ec6b5-e82b-4821-bc3a-1ef45d87fdeb",
   "metadata": {},
   "source": [
    "## Conclusion\n",
    "Congrats - you've just learned how to build stateful agents with Letta! Everything run in this notebook can also be done in Letta's REST API or with the Typescript SDK. See our [API reference](https://docs.letta.com/api-reference/overview) for more examples.\n",
    "\n",
    "If you're interested in learning more, check our our documentation for more on [multi-agent](https://docs.letta.com/cookbooks/multi-agent-async), [user identities](https://docs.letta.com/guides/agents/multi-user), and [customizing memory](https://docs.letta.com/guides/agents/memory#memory). "
   ]
  }
 ],
 "metadata": {
  "kernelspec": {
   "display_name": "SC-MemGPT-C1",
   "language": "python",
   "name": "sc-memgpt-c1"
  },
  "language_info": {
   "codemirror_mode": {
    "name": "ipython",
    "version": 3
   },
   "file_extension": ".py",
   "mimetype": "text/x-python",
   "name": "python",
   "nbconvert_exporter": "python",
   "pygments_lexer": "ipython3",
   "version": "3.12.7"
  }
 },
 "nbformat": 4,
 "nbformat_minor": 5
}
